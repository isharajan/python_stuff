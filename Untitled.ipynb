{
 "cells": [
  {
   "cell_type": "code",
   "execution_count": 96,
   "metadata": {},
   "outputs": [],
   "source": [
    "class Book:\n",
    "    ID = 0\n",
    "    def __init__(self,name):\n",
    "        self.name = name\n",
    "        self.bid = Book.ID\n",
    "        Book.ID+=1\n",
    "        self.current_owner = None\n",
    "    \n",
    "    def __repr__(self):\n",
    "        return self.name\n",
    "\n",
    "class Person():\n",
    "    ID = 0\n",
    "    def __init__(self,name):\n",
    "        self.name = name\n",
    "        self.id = Person.ID\n",
    "        Person.ID+=1\n",
    "        self.books = []\n",
    "\n",
    "    def __repr__(self):\n",
    "        return self.name\n",
    "\n",
    "class Lib():\n",
    "\n",
    "    ADMIN = Person('admin')\n",
    "    \n",
    "    def __init__(self,name=\"Commen\", books=[]):\n",
    "        self.name = name\n",
    "        self.books = []\n",
    "        for book in books:\n",
    "            book.current_owner = Lib.ADMIN\n",
    "            self.books.append(book)\n",
    "\n",
    "    def get_book(self, book_name, person):\n",
    "        for bookpid in self.books:\n",
    "            if book.name == book_name and book.current_owner is Lib.ADMIN:\n",
    "                book.current_owner = person\n",
    "                person.books.append(book)\n",
    "                return True\n",
    "        return False\n",
    "\n",
    "    def submit_book(self,person,book):\n",
    "        book.current_owner = Lib.ADMIN\n",
    "        person.books.remove(book)       \n",
    "\n",
    "    def list_book(self):\n",
    "        availlable_books = []\n",
    "        for book in self.books:\n",
    "            if book.current_owner is lib.ADMIN:\n",
    "                availlable_books.append(book)\n",
    "        return availlable_books\n",
    "\n",
    "    def add_book(self, book):\n",
    "        book.current_owner = Lib.ADMIN\n",
    "        self.books.append(book)\n",
    "        \n",
    "    def __repr__(self):\n",
    "        return self.name"
   ]
  },
  {
   "cell_type": "code",
   "execution_count": 97,
   "metadata": {},
   "outputs": [],
   "source": [
    "admin = Person('admin')\n",
    "books = [Book(name=\"Book_\"+str(i)) for i in range(50)]"
   ]
  },
  {
   "cell_type": "code",
   "execution_count": 98,
   "metadata": {},
   "outputs": [],
   "source": [
    "lib = Lib(books=books)"
   ]
  },
  {
   "cell_type": "code",
   "execution_count": 99,
   "metadata": {},
   "outputs": [],
   "source": [
    "person = Person('isha')\n"
   ]
  },
  {
   "cell_type": "code",
   "execution_count": 100,
   "metadata": {},
   "outputs": [
    {
     "data": {
      "text/plain": [
       "True"
      ]
     },
     "execution_count": 100,
     "metadata": {},
     "output_type": "execute_result"
    }
   ],
   "source": [
    "lib.get_book(\"Book_1\",person)"
   ]
  },
  {
   "cell_type": "code",
   "execution_count": 101,
   "metadata": {},
   "outputs": [
    {
     "data": {
      "text/plain": [
       "[Book_1]"
      ]
     },
     "execution_count": 101,
     "metadata": {},
     "output_type": "execute_result"
    }
   ],
   "source": [
    "person.books"
   ]
  },
  {
   "cell_type": "code",
   "execution_count": 102,
   "metadata": {},
   "outputs": [
    {
     "data": {
      "text/plain": [
       "False"
      ]
     },
     "execution_count": 102,
     "metadata": {},
     "output_type": "execute_result"
    }
   ],
   "source": [
    "lib.get_book(\"Book_1\",person)"
   ]
  },
  {
   "cell_type": "code",
   "execution_count": 103,
   "metadata": {},
   "outputs": [],
   "source": [
    "lib.submit_book(person,person.books[0])"
   ]
  },
  {
   "cell_type": "code",
   "execution_count": 104,
   "metadata": {},
   "outputs": [
    {
     "data": {
      "text/plain": [
       "True"
      ]
     },
     "execution_count": 104,
     "metadata": {},
     "output_type": "execute_result"
    }
   ],
   "source": [
    "lib.get_book(\"Book_1\",person)"
   ]
  },
  {
   "cell_type": "code",
   "execution_count": 105,
   "metadata": {},
   "outputs": [
    {
     "data": {
      "text/plain": [
       "[Book_1]"
      ]
     },
     "execution_count": 105,
     "metadata": {},
     "output_type": "execute_result"
    }
   ],
   "source": [
    "person.books"
   ]
  },
  {
   "cell_type": "code",
   "execution_count": 106,
   "metadata": {},
   "outputs": [
    {
     "data": {
      "text/plain": [
       "False"
      ]
     },
     "execution_count": 106,
     "metadata": {},
     "output_type": "execute_result"
    }
   ],
   "source": [
    "a is b"
   ]
  },
  {
   "cell_type": "code",
   "execution_count": 107,
   "metadata": {},
   "outputs": [
    {
     "data": {
      "text/plain": [
       "[Book_0,\n",
       " Book_2,\n",
       " Book_3,\n",
       " Book_4,\n",
       " Book_5,\n",
       " Book_6,\n",
       " Book_7,\n",
       " Book_8,\n",
       " Book_9,\n",
       " Book_10,\n",
       " Book_11,\n",
       " Book_12,\n",
       " Book_13,\n",
       " Book_14,\n",
       " Book_15,\n",
       " Book_16,\n",
       " Book_17,\n",
       " Book_18,\n",
       " Book_19,\n",
       " Book_20,\n",
       " Book_21,\n",
       " Book_22,\n",
       " Book_23,\n",
       " Book_24,\n",
       " Book_25,\n",
       " Book_26,\n",
       " Book_27,\n",
       " Book_28,\n",
       " Book_29,\n",
       " Book_30,\n",
       " Book_31,\n",
       " Book_32,\n",
       " Book_33,\n",
       " Book_34,\n",
       " Book_35,\n",
       " Book_36,\n",
       " Book_37,\n",
       " Book_38,\n",
       " Book_39,\n",
       " Book_40,\n",
       " Book_41,\n",
       " Book_42,\n",
       " Book_43,\n",
       " Book_44,\n",
       " Book_45,\n",
       " Book_46,\n",
       " Book_47,\n",
       " Book_48,\n",
       " Book_49]"
      ]
     },
     "execution_count": 107,
     "metadata": {},
     "output_type": "execute_result"
    }
   ],
   "source": [
    "lib.list_book()"
   ]
  },
  {
   "cell_type": "code",
   "execution_count": null,
   "metadata": {},
   "outputs": [],
   "source": []
  }
 ],
 "metadata": {
  "kernelspec": {
   "display_name": "Python 3",
   "language": "python",
   "name": "python3"
  },
  "language_info": {
   "codemirror_mode": {
    "name": "ipython",
    "version": 3
   },
   "file_extension": ".py",
   "mimetype": "text/x-python",
   "name": "python",
   "nbconvert_exporter": "python",
   "pygments_lexer": "ipython3",
   "version": "3.8.1"
  }
 },
 "nbformat": 4,
 "nbformat_minor": 4
}
