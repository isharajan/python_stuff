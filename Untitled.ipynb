{
 "cells": [
  {
   "cell_type": "code",
   "execution_count": 26,
   "metadata": {},
   "outputs": [],
   "source": [
    "class Node():\n",
    "    def __init__(self,data,nxt =None,prev=None):\n",
    "        self.data  = data\n",
    "        self.nxt = nxt\n",
    "        self.prev = prev\n",
    "     \n",
    "    @staticmethod\n",
    "    def display(head):\n",
    "        temp = head\n",
    "        while(temp.nxt!=None):\n",
    "            print(\"%s-->\"%(temp.data),end =\"\")\n",
    "            temp = temp.nxt\n",
    "        print(\"%s\"%(temp.data))\n",
    "        \n",
    "\n",
    "    @staticmethod\n",
    "    def insert_lst(data,head):\n",
    "        temp = head\n",
    "        while(temp.nxt!=None):\n",
    "            temp=temp.nxt\n",
    "        node = Node(data,prev=temp)\n",
    "        temp.nxt = node\n",
    "        Node.display(head)\n",
    "        return head\n",
    "        \n",
    "\n",
    "    @staticmethod\n",
    "    def insert_fst(data,head):\n",
    "        node = Node(data,nxt=head)\n",
    "        head.prev = node\n",
    "        head = node\n",
    "        Node.display(head)\n",
    "        return head\n",
    "        \n",
    "        \n",
    "        \n",
    "    \n",
    "        \n",
    "        "
   ]
  },
  {
   "cell_type": "code",
   "execution_count": null,
   "metadata": {},
   "outputs": [],
   "source": [
    "head = Node(10)"
   ]
  },
  {
   "cell_type": "code",
   "execution_count": 28,
   "metadata": {},
   "outputs": [
    {
     "name": "stdout",
     "output_type": "stream",
     "text": [
      "80-->40-->20-->10-->20\n",
      "80-->40-->20-->10-->20-->40\n",
      "80-->40-->20-->10-->20-->40-->80\n"
     ]
    }
   ],
   "source": [
    "head = Node.insert_lst(20,head)\n",
    "head = Node.insert_lst(40,head)\n",
    "head = Node.insert_lst(80,head)"
   ]
  },
  {
   "cell_type": "code",
   "execution_count": 44,
   "metadata": {},
   "outputs": [
    {
     "name": "stdout",
     "output_type": "stream",
     "text": [
      "0\n",
      "1\n",
      "1\n",
      "2\n",
      "3\n",
      "5\n",
      "8\n",
      "13\n",
      "21\n",
      "34\n",
      "55\n",
      "89\n"
     ]
    }
   ],
   "source": [
    "n =5\n",
    "def fibo(n):\n",
    "    f1=0\n",
    "    f2=1\n",
    "    f3=f1+f2\n",
    "    if(n==1):\n",
    "        print (f1)\n",
    "        return None\n",
    "    if(n==2):\n",
    "        print(f1)\n",
    "        print(f2)\n",
    "        return None\n",
    "    if(n>2):\n",
    "        print(f1)\n",
    "        print(f2)\n",
    "        for i in range(n-2):\n",
    "            f3=f1+f2\n",
    "            print(f3)\n",
    "            f1=f2\n",
    "            f2=f3\n",
    "\n",
    "fibo(12)\n"
   ]
  },
  {
   "cell_type": "code",
   "execution_count": 42,
   "metadata": {},
   "outputs": [
    {
     "data": {
      "text/plain": [
       "89"
      ]
     },
     "execution_count": 42,
     "metadata": {},
     "output_type": "execute_result"
    }
   ],
   "source": [
    "def fi(n):\n",
    "    if(n<=1):\n",
    "        return 1\n",
    "    return fi(n-1)+fi(n-2)\n",
    "    \n",
    "fi(10)\n",
    "\n"
   ]
  },
  {
   "cell_type": "code",
   "execution_count": 123,
   "metadata": {},
   "outputs": [],
   "source": [
    "def rev_lst(l):\n",
    "    rl = []\n",
    "    for n in range(len(l)):\n",
    "        ind = -n-1\n",
    "        rl.append(l[ind])\n",
    "    return rl\n",
    "\n",
    "l=[2,8,16,10,4]"
   ]
  },
  {
   "cell_type": "code",
   "execution_count": 124,
   "metadata": {},
   "outputs": [
    {
     "data": {
      "text/plain": [
       "[4, 10, 16, 8, 2]"
      ]
     },
     "execution_count": 124,
     "metadata": {},
     "output_type": "execute_result"
    }
   ],
   "source": [
    "rev_lst(l)"
   ]
  },
  {
   "cell_type": "code",
   "execution_count": 106,
   "metadata": {},
   "outputs": [
    {
     "name": "stdout",
     "output_type": "stream",
     "text": [
      "110\n",
      "100\n",
      "90\n",
      "80\n",
      "15\n",
      "14\n",
      "13\n",
      "12\n",
      "11\n"
     ]
    }
   ],
   "source": [
    "def rev_lst_rec(l,length):\n",
    "    \n",
    "    if(length>0):\n",
    "        n=len(l)\n",
    "        ind = n-(length-1)\n",
    "        print (l[-ind])\n",
    "        length = length-1\n",
    "        rev_lst_rec(l,length)\n",
    "        \n",
    "        \n",
    "    \n",
    "l=[11,12,13,14,15,80,90,100,110]\n",
    "length = len(l)\n",
    "rev_lst_rec(l,length)\n"
   ]
  },
  {
   "cell_type": "code",
   "execution_count": 126,
   "metadata": {},
   "outputs": [
    {
     "data": {
      "text/plain": [
       "[1, 2, 3, 4, 5, 6, 6, 7]"
      ]
     },
     "execution_count": 126,
     "metadata": {},
     "output_type": "execute_result"
    }
   ],
   "source": [
    "def rv(l):\n",
    "    if len(l)==1:\n",
    "        return l\n",
    "    else:\n",
    "        return rv(l[1:])+[l[0]]\n",
    "rv([1,2,3,4,5,6,6,7])"
   ]
  },
  {
   "cell_type": "code",
   "execution_count": 127,
   "metadata": {},
   "outputs": [],
   "source": [
    "l = [1, 2, 3, 4, 5, 6, 6, 7]"
   ]
  },
  {
   "cell_type": "code",
   "execution_count": null,
   "metadata": {},
   "outputs": [],
   "source": [
    "l."
   ]
  }
 ],
 "metadata": {
  "kernelspec": {
   "display_name": "Python 3",
   "language": "python",
   "name": "python3"
  },
  "language_info": {
   "codemirror_mode": {
    "name": "ipython",
    "version": 3
   },
   "file_extension": ".py",
   "mimetype": "text/x-python",
   "name": "python",
   "nbconvert_exporter": "python",
   "pygments_lexer": "ipython3",
   "version": "3.8.1"
  }
 },
 "nbformat": 4,
 "nbformat_minor": 4
}
