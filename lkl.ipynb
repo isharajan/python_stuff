{
 "cells": [
  {
   "cell_type": "code",
   "execution_count": 93,
   "metadata": {},
   "outputs": [],
   "source": [
    "class Node():\n",
    "    def __init__(self,data):\n",
    "        self.data = data\n",
    "        self.nxt =None\n",
    "\n",
    "    @staticmethod\n",
    "    def display(head):\n",
    "        temp=head\n",
    "        while(temp.nxt!=None):\n",
    "            print(\"%s-->\"%(temp.data),end=\" \")\n",
    "            temp = temp.nxt\n",
    "        print(\"%s-->\"%(temp.data))\n",
    "\n",
    "\n",
    "    @staticmethod\n",
    "    def insert_lst(data,head):\n",
    "        node = Node(data)\n",
    "        temp=head\n",
    "        while(temp.nxt!= None):\n",
    "            temp=temp.nxt\n",
    "        temp.nxt = node\n",
    "        Node.display(head)\n",
    "        return head\n",
    "\n",
    "    @staticmethod\n",
    "    def insert_fst(data,head):\n",
    "        node = Node(data)\n",
    "        node.nxt = head\n",
    "        head = node\n",
    "        Node.display(head)\n",
    "        return head\n",
    "\n",
    "\n",
    "    @staticmethod\n",
    "    def remove_fst(head):\n",
    "        temp = head\n",
    "        head = head.nxt\n",
    "        temp.nxt = None\n",
    "        Node.display(head)\n",
    "        return head\n",
    "\n",
    "\n",
    "    @staticmethod\n",
    "    def remove_lst(head):\n",
    "        temp = head\n",
    "        if(temp.nxt==None):\n",
    "            return None\n",
    "        while(temp.nxt.nxt!=None):\n",
    "            temp = temp.nxt\n",
    "        temp.nxt = None\n",
    "        Node.display(head)\n",
    "        return head\n",
    "\n",
    "    "
   ]
  },
  {
   "cell_type": "code",
   "execution_count": 110,
   "metadata": {},
   "outputs": [
    {
     "name": "stdout",
     "output_type": "stream",
     "text": [
      "10--> 20-->\n",
      "10--> 20--> 30-->\n",
      "10--> 20--> 30--> 40-->\n",
      "10--> 20--> 30--> 40--> 50-->\n",
      "10--> 20--> 30--> 40--> 50--> 60-->\n",
      "9--> 10--> 20--> 30--> 40--> 50--> 60-->\n",
      "8--> 9--> 10--> 20--> 30--> 40--> 50--> 60-->\n",
      "8--> 9--> 10--> 20--> 30--> 40--> 50-->\n",
      "8--> 9--> 10--> 20--> 30--> 40-->\n",
      "9--> 10--> 20--> 30--> 40-->\n",
      "10--> 20--> 30--> 40-->\n"
     ]
    }
   ],
   "source": [
    "head = Node(10)\n",
    "head=Node.insert_lst(20,head)\n",
    "head=Node.insert_lst(30,head)\n",
    "head=Node.insert_lst(40,head)\n",
    "head=Node.insert_lst(50,head)\n",
    "head=Node.insert_lst(60,head)\n",
    "\n",
    "head=Node.insert_fst(9,head)\n",
    "head = Node.insert_fst(8,head)\n",
    "\n",
    "head=Node.remove_lst(head)\n",
    "head=Node.remove_lst(head)\n",
    "\n",
    "head = Node.remove_fst(head)\n",
    "head = Node.remove_fst(head)\n",
    "\n",
    "\n",
    "                     \n",
    "                     \n",
    "                     \n",
    "    \n",
    "\n",
    "\n",
    "\n",
    "\n"
   ]
  },
  {
   "cell_type": "code",
   "execution_count": null,
   "metadata": {},
   "outputs": [],
   "source": []
  },
  {
   "cell_type": "code",
   "execution_count": null,
   "metadata": {},
   "outputs": [],
   "source": []
  },
  {
   "cell_type": "code",
   "execution_count": null,
   "metadata": {},
   "outputs": [],
   "source": []
  },
  {
   "cell_type": "code",
   "execution_count": null,
   "metadata": {},
   "outputs": [],
   "source": []
  },
  {
   "cell_type": "code",
   "execution_count": null,
   "metadata": {},
   "outputs": [],
   "source": []
  },
  {
   "cell_type": "code",
   "execution_count": null,
   "metadata": {},
   "outputs": [],
   "source": []
  },
  {
   "cell_type": "code",
   "execution_count": null,
   "metadata": {},
   "outputs": [],
   "source": []
  },
  {
   "cell_type": "code",
   "execution_count": null,
   "metadata": {},
   "outputs": [],
   "source": []
  },
  {
   "cell_type": "code",
   "execution_count": null,
   "metadata": {},
   "outputs": [],
   "source": []
  },
  {
   "cell_type": "code",
   "execution_count": null,
   "metadata": {},
   "outputs": [],
   "source": []
  },
  {
   "cell_type": "code",
   "execution_count": null,
   "metadata": {},
   "outputs": [],
   "source": []
  },
  {
   "cell_type": "code",
   "execution_count": null,
   "metadata": {},
   "outputs": [],
   "source": []
  },
  {
   "cell_type": "code",
   "execution_count": null,
   "metadata": {},
   "outputs": [],
   "source": []
  },
  {
   "cell_type": "code",
   "execution_count": null,
   "metadata": {},
   "outputs": [],
   "source": []
  },
  {
   "cell_type": "code",
   "execution_count": null,
   "metadata": {},
   "outputs": [],
   "source": []
  },
  {
   "cell_type": "code",
   "execution_count": null,
   "metadata": {},
   "outputs": [],
   "source": []
  },
  {
   "cell_type": "code",
   "execution_count": null,
   "metadata": {},
   "outputs": [],
   "source": []
  },
  {
   "cell_type": "code",
   "execution_count": null,
   "metadata": {},
   "outputs": [],
   "source": []
  },
  {
   "cell_type": "code",
   "execution_count": null,
   "metadata": {},
   "outputs": [],
   "source": []
  },
  {
   "cell_type": "code",
   "execution_count": null,
   "metadata": {},
   "outputs": [],
   "source": []
  }
 ],
 "metadata": {
  "kernelspec": {
   "display_name": "Python 3",
   "language": "python",
   "name": "python3"
  },
  "language_info": {
   "codemirror_mode": {
    "name": "ipython",
    "version": 3
   },
   "file_extension": ".py",
   "mimetype": "text/x-python",
   "name": "python",
   "nbconvert_exporter": "python",
   "pygments_lexer": "ipython3",
   "version": "3.8.1"
  }
 },
 "nbformat": 4,
 "nbformat_minor": 4
}
