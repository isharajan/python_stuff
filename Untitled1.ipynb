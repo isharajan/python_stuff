{
 "cells": [
  {
   "cell_type": "code",
   "execution_count": 6,
   "metadata": {},
   "outputs": [],
   "source": [
    "class Node:\n",
    "    def __init__(self,d,l=None,r=None):\n",
    "        self.d = d\n",
    "        self.l = l\n",
    "        self.r = r\n",
    "        \n",
    "   \n",
    "    @staticmethod\n",
    "    def insert(d,root):\n",
    "        node = Node(d)\n",
    "        if(root.d>node.d):\n",
    "            if(root.l==None):\n",
    "                root.l = node\n",
    "            else:\n",
    "                Node.insert(node.d,root.l)\n",
    "            return root\n",
    "        else:\n",
    "            if(root.r == None):\n",
    "                root.r = node\n",
    "            else:\n",
    "                Node.insert(node.d,root.r)\n",
    "            return root\n",
    "        \n",
    "    @staticmethod\n",
    "    def findmin(node):\n",
    "        if(node.l != None):\n",
    "            return Node.findmin(node.l)\n",
    "        return node\n",
    "    \n",
    "    @staticmethod\n",
    "    def delete(node,d):\n",
    "        if(node.d>d):\n",
    "            node.l = Node.delete(node.l,d)\n",
    "        if(node.d<d):\n",
    "            node.r = Node.delete(node.r,d)\n",
    "        else:\n",
    "            if(node.l==None and node.r==None):\n",
    "                node = None\n",
    "            elif(node.l == None):\n",
    "                node = node.r\n",
    "            elif(node.r == None):\n",
    "                node = node.l\n",
    "            else:\n",
    "                minnode = Node.findmin(node.r)\n",
    "                node.d = minnode.d\n",
    "                node.r = Node.delete(node.r,minnode.d)\n",
    "        return node\n",
    "        \n",
    "        "
   ]
  },
  {
   "cell_type": "code",
   "execution_count": 9,
   "metadata": {},
   "outputs": [],
   "source": [
    "root = Node(50)\n",
    "root = Node.insert(60,root)\n",
    "root = Node.insert(40,root)\n",
    "root = Node.insert(100,root)\n",
    "root = Node.insert(25,root)\n",
    "root = Node.delete(root,40)\n",
    "\n",
    "\n"
   ]
  },
  {
   "cell_type": "code",
   "execution_count": 12,
   "metadata": {},
   "outputs": [
    {
     "data": {
      "text/plain": [
       "25"
      ]
     },
     "execution_count": 12,
     "metadata": {},
     "output_type": "execute_result"
    }
   ],
   "source": [
    "root.l.d\n"
   ]
  },
  {
   "cell_type": "code",
   "execution_count": null,
   "metadata": {},
   "outputs": [],
   "source": []
  }
 ],
 "metadata": {
  "kernelspec": {
   "display_name": "Python 3",
   "language": "python",
   "name": "python3"
  },
  "language_info": {
   "codemirror_mode": {
    "name": "ipython",
    "version": 3
   },
   "file_extension": ".py",
   "mimetype": "text/x-python",
   "name": "python",
   "nbconvert_exporter": "python",
   "pygments_lexer": "ipython3",
   "version": "3.8.1"
  }
 },
 "nbformat": 4,
 "nbformat_minor": 4
}
