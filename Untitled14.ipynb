{
 "cells": [
  {
   "cell_type": "code",
   "execution_count": 9,
   "metadata": {},
   "outputs": [],
   "source": [
    "def ratings_count(n):\n",
    "    rating_count = [0,0,0,0,0,0]\n",
    "    for i in range(n):\n",
    "        userrating = int(input(\"give ur rating : \"))\n",
    "        if((userrating <1) or (userrating>5)):\n",
    "            print(\" invalid rating\")\n",
    "        else:\n",
    "            rating_count[userrating] = rating_count[userrating]+1\n",
    "            \n",
    "    for i in range(1,6):\n",
    "        print(i,\" \",rating_count[i])   \n",
    "\n",
    "    "
   ]
  },
  {
   "cell_type": "code",
   "execution_count": 10,
   "metadata": {},
   "outputs": [
    {
     "name": "stdout",
     "output_type": "stream",
     "text": [
      "give ur rating : 3\n",
      "give ur rating : 4\n",
      "give ur rating : 5\n",
      "give ur rating : 2\n",
      "give ur rating : 1\n",
      "give ur rating : 6\n",
      " invalid rating\n",
      "give ur rating : 0\n",
      " invalid rating\n",
      "give ur rating : 4\n",
      "1   1\n",
      "2   1\n",
      "3   1\n",
      "4   2\n",
      "5   1\n"
     ]
    }
   ],
   "source": [
    "n=8\n",
    "ratings_count(n)"
   ]
  },
  {
   "cell_type": "code",
   "execution_count": null,
   "metadata": {},
   "outputs": [],
   "source": []
  }
 ],
 "metadata": {
  "kernelspec": {
   "display_name": "Python 3",
   "language": "python",
   "name": "python3"
  },
  "language_info": {
   "codemirror_mode": {
    "name": "ipython",
    "version": 3
   },
   "file_extension": ".py",
   "mimetype": "text/x-python",
   "name": "python",
   "nbconvert_exporter": "python",
   "pygments_lexer": "ipython3",
   "version": "3.8.1"
  }
 },
 "nbformat": 4,
 "nbformat_minor": 4
}
