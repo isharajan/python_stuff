{
 "cells": [
  {
   "cell_type": "code",
   "execution_count": 30,
   "metadata": {},
   "outputs": [],
   "source": [
    "class heaparr():\n",
    "    \n",
    "    @staticmethod\n",
    "    def adjust(arr,dindex):\n",
    "        if(dindex!=1):\n",
    "            \n",
    "            pindex = dindex//2\n",
    "            if(arr[pindex-1] < arr[dindex-1]):\n",
    "                temp = arr[pindex-1]\n",
    "                arr[pindex-1] = arr[dindex-1]\n",
    "                arr[dindex-1] = temp\n",
    "                heaparr.adjust(arr,pindex)\n",
    "            \n",
    "    @staticmethod        \n",
    "    def swap(arr,pindex,dindex):\n",
    "        temp = arr[pindex]\n",
    "        arr[pindex] = arr[dindex]\n",
    "        arr[dindex] = temp\n",
    "        \n",
    "        \n",
    "    @staticmethod\n",
    "    def insert(arr,data):\n",
    "        arr.append(data)\n",
    "        dindex = len(arr)\n",
    "        heaparr.adjust(arr,dindex)\n",
    "        #print (arr)\n",
    "\n",
    "    @staticmethod    \n",
    "    def delete(arr):\n",
    "        #print(arr)\n",
    "        if(len(arr) >0):\n",
    "            lenth = len(arr)\n",
    "            temp = arr[0]\n",
    "            arr[0] = arr[lenth-1]\n",
    "            arr[lenth-1] = temp\n",
    "            top = arr.pop()\n",
    "            heaparr.deladjust(arr,1)\n",
    "            return top\n",
    "            \n",
    "    @staticmethod       \n",
    "    def deladjust(arr,pindex):\n",
    "        lenth = len(arr)\n",
    "        lindex = 2*pindex\n",
    "        rindex = lindex+1\n",
    "              \n",
    "        if((lindex <= lenth and rindex<=lenth) and (arr[lindex-1]>=arr[rindex-1])):\n",
    "            if(arr[lindex-1]>arr[pindex-1]):\n",
    "                heaparr.swap(arr,pindex-1,lindex-1)\n",
    "                heaparr.deladjust(arr,lindex)\n",
    "                \n",
    "        if((rindex <= lenth and lindex<=lenth) and (arr[rindex-1]>=arr[lindex-1])):\n",
    "            if(arr[rindex-1]>arr[pindex-1]):\n",
    "                heaparr.swap(arr,pindex-1,rindex-1)\n",
    "                heaparr.deladjust(arr,rindex)\n",
    "        \n",
    "    @staticmethod    \n",
    "    def sort(arr):\n",
    "        arr1 =[]\n",
    "        sort_arr =[]\n",
    "        for i in range(len(arr)):\n",
    "            heaparr.insert(arr1 ,arr[i])\n",
    "            \n",
    "\n",
    "        while(len(arr1) != 0):\n",
    "            t = heaparr.delete(arr1)\n",
    "            sort_arr.append(t)\n",
    "\n",
    "\n",
    "        return sort_arr\n",
    "            \n",
    "            \n",
    "    @staticmethod\n",
    "    def bfs(L):\n",
    "        \n",
    "        nl = []\n",
    "        for node in range(1,len(L)):\n",
    "            lindex = 2*node\n",
    "            rindex = lindex+1\n",
    "        \n",
    "\n",
    "            if(L[lindex-1] != None and L[rindex-1]!= None):\n",
    "                \n",
    "                print (L[node])\n",
    "                \n",
    "                \n",
    "            \n",
    "            nl.append(L[lindex])j\n",
    "            nl.append(L[rindex])\n",
    "            heaparr.bfs(nl)\n",
    "            "
   ]
  },
  {
   "cell_type": "code",
   "execution_count": 31,
   "metadata": {},
   "outputs": [],
   "source": [
    "arr = []\n",
    "heaparr.insert(arr,20)\n",
    "heaparr.insert(arr,100)\n",
    "heaparr.insert(arr,30)\n",
    "heaparr.insert(arr,50)\n",
    "heaparr.insert(arr,5)\n",
    "heaparr.insert(arr,200)\n",
    "heaparr.insert(arr,105)\n",
    "\n"
   ]
  },
  {
   "cell_type": "code",
   "execution_count": 33,
   "metadata": {},
   "outputs": [
    {
     "name": "stdout",
     "output_type": "stream",
     "text": [
      "30\n"
     ]
    },
    {
     "ename": "IndexError",
     "evalue": "list index out of range",
     "output_type": "error",
     "traceback": [
      "\u001b[0;31m---------------------------------------------------------------------------\u001b[0m",
      "\u001b[0;31mIndexError\u001b[0m                                Traceback (most recent call last)",
      "\u001b[0;32m<ipython-input-33-815c876c2ff9>\u001b[0m in \u001b[0;36m<module>\u001b[0;34m\u001b[0m\n\u001b[1;32m      1\u001b[0m \u001b[0mL\u001b[0m\u001b[0;34m=\u001b[0m\u001b[0;34m[\u001b[0m\u001b[0;36m50\u001b[0m\u001b[0;34m,\u001b[0m\u001b[0;36m30\u001b[0m\u001b[0;34m,\u001b[0m\u001b[0;36m40\u001b[0m\u001b[0;34m,\u001b[0m\u001b[0;36m80\u001b[0m\u001b[0;34m,\u001b[0m\u001b[0;36m12\u001b[0m\u001b[0;34m,\u001b[0m\u001b[0;36m5\u001b[0m\u001b[0;34m,\u001b[0m\u001b[0;36m8\u001b[0m\u001b[0;34m,\u001b[0m\u001b[0;36m100\u001b[0m\u001b[0;34m,\u001b[0m\u001b[0;36m700\u001b[0m\u001b[0;34m,\u001b[0m\u001b[0;36m48\u001b[0m\u001b[0;34m]\u001b[0m\u001b[0;34m\u001b[0m\u001b[0;34m\u001b[0m\u001b[0m\n\u001b[1;32m      2\u001b[0m \u001b[0mnl\u001b[0m \u001b[0;34m=\u001b[0m\u001b[0;34m[\u001b[0m\u001b[0;34m]\u001b[0m\u001b[0;34m\u001b[0m\u001b[0;34m\u001b[0m\u001b[0m\n\u001b[0;32m----> 3\u001b[0;31m \u001b[0mheaparr\u001b[0m\u001b[0;34m.\u001b[0m\u001b[0mbfs\u001b[0m\u001b[0;34m(\u001b[0m\u001b[0mL\u001b[0m\u001b[0;34m)\u001b[0m\u001b[0;34m\u001b[0m\u001b[0;34m\u001b[0m\u001b[0m\n\u001b[0m\u001b[1;32m      4\u001b[0m \u001b[0mprint\u001b[0m\u001b[0;34m(\u001b[0m\u001b[0;34m\"============================\"\u001b[0m\u001b[0;34m)\u001b[0m\u001b[0;34m\u001b[0m\u001b[0;34m\u001b[0m\u001b[0m\n\u001b[1;32m      5\u001b[0m \u001b[0mheaparr\u001b[0m\u001b[0;34m.\u001b[0m\u001b[0msort\u001b[0m\u001b[0;34m(\u001b[0m\u001b[0mL\u001b[0m\u001b[0;34m)\u001b[0m\u001b[0;34m\u001b[0m\u001b[0;34m\u001b[0m\u001b[0m\n",
      "\u001b[0;32m<ipython-input-30-e122e72ad802>\u001b[0m in \u001b[0;36mbfs\u001b[0;34m(L)\u001b[0m\n\u001b[1;32m     87\u001b[0m             \u001b[0mnl\u001b[0m\u001b[0;34m.\u001b[0m\u001b[0mappend\u001b[0m\u001b[0;34m(\u001b[0m\u001b[0mL\u001b[0m\u001b[0;34m[\u001b[0m\u001b[0mlindex\u001b[0m\u001b[0;34m]\u001b[0m\u001b[0;34m)\u001b[0m\u001b[0;34m\u001b[0m\u001b[0;34m\u001b[0m\u001b[0m\n\u001b[1;32m     88\u001b[0m             \u001b[0mnl\u001b[0m\u001b[0;34m.\u001b[0m\u001b[0mappend\u001b[0m\u001b[0;34m(\u001b[0m\u001b[0mL\u001b[0m\u001b[0;34m[\u001b[0m\u001b[0mrindex\u001b[0m\u001b[0;34m]\u001b[0m\u001b[0;34m)\u001b[0m\u001b[0;34m\u001b[0m\u001b[0;34m\u001b[0m\u001b[0m\n\u001b[0;32m---> 89\u001b[0;31m             \u001b[0mheaparr\u001b[0m\u001b[0;34m.\u001b[0m\u001b[0mbfs\u001b[0m\u001b[0;34m(\u001b[0m\u001b[0mnl\u001b[0m\u001b[0;34m)\u001b[0m\u001b[0;34m\u001b[0m\u001b[0;34m\u001b[0m\u001b[0m\n\u001b[0m\u001b[1;32m     90\u001b[0m \u001b[0;34m\u001b[0m\u001b[0m\n",
      "\u001b[0;32m<ipython-input-30-e122e72ad802>\u001b[0m in \u001b[0;36mbfs\u001b[0;34m(L)\u001b[0m\n\u001b[1;32m     79\u001b[0m \u001b[0;34m\u001b[0m\u001b[0m\n\u001b[1;32m     80\u001b[0m \u001b[0;34m\u001b[0m\u001b[0m\n\u001b[0;32m---> 81\u001b[0;31m             \u001b[0;32mif\u001b[0m\u001b[0;34m(\u001b[0m\u001b[0mL\u001b[0m\u001b[0;34m[\u001b[0m\u001b[0mlindex\u001b[0m\u001b[0;34m-\u001b[0m\u001b[0;36m1\u001b[0m\u001b[0;34m]\u001b[0m \u001b[0;34m!=\u001b[0m \u001b[0;32mNone\u001b[0m \u001b[0;32mand\u001b[0m \u001b[0mL\u001b[0m\u001b[0;34m[\u001b[0m\u001b[0mrindex\u001b[0m\u001b[0;34m-\u001b[0m\u001b[0;36m1\u001b[0m\u001b[0;34m]\u001b[0m\u001b[0;34m!=\u001b[0m \u001b[0;32mNone\u001b[0m\u001b[0;34m)\u001b[0m\u001b[0;34m:\u001b[0m\u001b[0;34m\u001b[0m\u001b[0;34m\u001b[0m\u001b[0m\n\u001b[0m\u001b[1;32m     82\u001b[0m \u001b[0;34m\u001b[0m\u001b[0m\n\u001b[1;32m     83\u001b[0m                 \u001b[0mprint\u001b[0m \u001b[0;34m(\u001b[0m\u001b[0mL\u001b[0m\u001b[0;34m[\u001b[0m\u001b[0mnode\u001b[0m\u001b[0;34m]\u001b[0m\u001b[0;34m)\u001b[0m\u001b[0;34m\u001b[0m\u001b[0;34m\u001b[0m\u001b[0m\n",
      "\u001b[0;31mIndexError\u001b[0m: list index out of range"
     ]
    }
   ],
   "source": [
    "L=[50,30,40,80,12,5,8,100,700,48]\n",
    "heaparr.bfs(L)\n",
    "print(\"============================\")\n",
    "heaparr.sort(L)\n"
   ]
  },
  {
   "cell_type": "code",
   "execution_count": null,
   "metadata": {},
   "outputs": [],
   "source": []
  },
  {
   "cell_type": "code",
   "execution_count": null,
   "metadata": {},
   "outputs": [],
   "source": []
  }
 ],
 "metadata": {
  "kernelspec": {
   "display_name": "Python 3",
   "language": "python",
   "name": "python3"
  },
  "language_info": {
   "codemirror_mode": {
    "name": "ipython",
    "version": 3
   },
   "file_extension": ".py",
   "mimetype": "text/x-python",
   "name": "python",
   "nbconvert_exporter": "python",
   "pygments_lexer": "ipython3",
   "version": "3.8.1"
  }
 },
 "nbformat": 4,
 "nbformat_minor": 4
}
