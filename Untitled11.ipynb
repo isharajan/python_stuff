{
 "cells": [
  {
   "cell_type": "code",
   "execution_count": 52,
   "metadata": {},
   "outputs": [],
   "source": [
    "class Node:\n",
    "    def __init__(self,d,l=None,r=None):\n",
    "        self.d = d\n",
    "        self.l = l\n",
    "        self.r = r\n",
    "        \n",
    "    @staticmethod    \n",
    "    def _display_aux(root):\n",
    "        \"\"\"Returns list of strings, width, height, and horizontal coordinate of the root.\"\"\"\n",
    "        # No child.\n",
    "        if root.r is None and root.l is None:\n",
    "            line = '%s' % root.d\n",
    "            width = len(line)\n",
    "            height = 1\n",
    "            middle = width // 2\n",
    "            return [line], width, height, middle\n",
    "\n",
    "        # Only l child.\n",
    "        if root.r is None:\n",
    "            lines, n, p, x = Node._display_aux(root.l)\n",
    "            s = '%s' % root.d\n",
    "            u = len(s)\n",
    "            first_line = (x + 1) * ' ' + (n - x - 1) * '_' + s\n",
    "            second_line = x * ' ' + '/' + (n - x - 1 + u) * ' '\n",
    "            shifted_lines = [line + u * ' ' for line in lines]\n",
    "            return [first_line, second_line] + shifted_lines, n + u, p + 2, n + u // 2\n",
    "\n",
    "        # Only r child.\n",
    "        if root.l is None:\n",
    "            lines, n, p, x = Node._display_aux(root.r)\n",
    "            s = '%s' % root.d\n",
    "            u = len(s)\n",
    "            first_line = s + x * '_' + (n - x) * ' '\n",
    "            second_line = (u + x) * ' ' + '\\\\' + (n - x - 1) * ' '\n",
    "            shifted_lines = [u * ' ' + line for line in lines]\n",
    "            return [first_line, second_line] + shifted_lines, n + u, p + 2, u // 2\n",
    "\n",
    "        # Two children.\n",
    "        l, n, p, x = Node._display_aux(root.l)\n",
    "        r, m, q, y = Node._display_aux(root.r)\n",
    "        s = '%s' % root.d\n",
    "        u = len(s)\n",
    "        first_line = (x + 1) * ' ' + (n - x - 1) * '_' + s + y * '_' + (m - y) * ' '\n",
    "        second_line = x * ' ' + '/' + (n - x - 1 + u + y) * ' ' + '\\\\' + (m - y - 1) * ' '\n",
    "        if p < q:\n",
    "            l += [n * ' '] * (q - p)\n",
    "        elif q < p:\n",
    "            r += [m * ' '] * (p - q)\n",
    "        zipped_lines = zip(l, r)\n",
    "        lines = [first_line, second_line] + [a + u * ' ' + b for a, b in zipped_lines]\n",
    "        return lines, n + m + u, max(p, q) + 2, n + u // 2\n",
    "\n",
    "    @staticmethod\n",
    "    def display(root):\n",
    "        lines, *_ = Node._display_aux(root)\n",
    "        for line in lines:\n",
    "            print(line)\n",
    "        print(\"--------------------\")\n",
    "   \n",
    "    @staticmethod\n",
    "    def insert(d,root):\n",
    "        node = Node(d)\n",
    "        if(root.d>node.d):\n",
    "            if(root.l==None):\n",
    "                root.l = node\n",
    "            else:\n",
    "                Node.insert(node.d,root.l)\n",
    "            return root\n",
    "        else:\n",
    "            if(root.r == None):\n",
    "                root.r = node\n",
    "            else:\n",
    "                Node.insert(node.d,root.r)\n",
    "            return root\n",
    "        \n",
    "    @staticmethod\n",
    "    def findmin(node):\n",
    "        if(node.l != None):\n",
    "            return Node.findmin(node.l)\n",
    "        return node\n",
    "    \n",
    "    @staticmethod\n",
    "    def delete(node,d):\n",
    "        if(node == None):\n",
    "            return node\n",
    "        elif(node.d>d):\n",
    "            node.l = Node.delete(node.l,d)\n",
    "        elif(node.d<d):\n",
    "            node.r = Node.delete(node.r,d)\n",
    "        else:\n",
    "            if(node.l==None and node.r==None):\n",
    "                node = None\n",
    "            elif(node.l == None):\n",
    "                node = node.r\n",
    "            elif(node.r == None):\n",
    "                node = node.l\n",
    "            else:\n",
    "                minnode = Node.findmin(node.r)\n",
    "                node.d = minnode.d\n",
    "                node.r = Node.delete(node.r,minnode.d)\n",
    "        return node\n",
    "    \n",
    "    @staticmethod\n",
    "    def print_eachdata(root,data=[]):\n",
    "        if root!=None:\n",
    "            data.append(root)\n",
    "            \n",
    "            Node.print_eachdata(root.l)\n",
    "            \n",
    "            Node.print_eachdata(root.r)\n",
    "            print (root.d)\n",
    "        return data\n",
    "    \n",
    "    \n",
    "    @staticmethod\n",
    "    def bfs(rl):\n",
    "        nl =[]\n",
    "        for rut in  rl:\n",
    "            #print(rut.d)\n",
    "            if(rut.r!= None and rut.l!= None):\n",
    "                print(rut.d)\n",
    "            nl.append(rut.l)\n",
    "            nl.append(rut.r)\n",
    "        \n",
    "        Node.bfs(nl)\n",
    "            \n",
    "\n",
    "        "
   ]
  },
  {
   "cell_type": "code",
   "execution_count": 55,
   "metadata": {},
   "outputs": [
    {
     "name": "stdout",
     "output_type": "stream",
     "text": [
      "        ______50_______     \n",
      "       /               \\    \n",
      "    __40___       ____100_  \n",
      "   /       \\     /        \\ \n",
      "  25_     45_   53_      105\n",
      " /   \\   /   \\     \\        \n",
      "10  35  43  47    57_       \n",
      "                     \\      \n",
      "                    95      \n",
      "--------------------\n"
     ]
    }
   ],
   "source": [
    "root = Node(50)\n",
    "#root = Node.insert(60,root)\n",
    "root = Node.insert(40,root)\n",
    "root = Node.insert(100,root)\n",
    "root = Node.insert(25,root)\n",
    "root = Node.insert(10,root)\n",
    "root = Node.insert(35,root)\n",
    "#root = Node.insert(55,root)\n",
    "root = Node.insert(45,root)\n",
    "root = Node.insert(53,root)\n",
    "root = Node.insert(57,root)\n",
    "root = Node.insert(43,root)\n",
    "root = Node.insert(47,root)\n",
    "root = Node.insert(105,root)\n",
    "root = Node.insert(95,root)\n",
    "Node.display(root)"
   ]
  },
  {
   "cell_type": "code",
   "execution_count": 56,
   "metadata": {},
   "outputs": [
    {
     "name": "stdout",
     "output_type": "stream",
     "text": [
      "50\n",
      "40\n",
      "100\n",
      "25\n",
      "45\n"
     ]
    },
    {
     "ename": "AttributeError",
     "evalue": "'NoneType' object has no attribute 'r'",
     "output_type": "error",
     "traceback": [
      "\u001b[0;31m---------------------------------------------------------------------------\u001b[0m",
      "\u001b[0;31mAttributeError\u001b[0m                            Traceback (most recent call last)",
      "\u001b[0;32m<ipython-input-56-24f2ddcc2d87>\u001b[0m in \u001b[0;36m<module>\u001b[0;34m\u001b[0m\n\u001b[1;32m      1\u001b[0m \u001b[0mrl\u001b[0m \u001b[0;34m=\u001b[0m\u001b[0;34m[\u001b[0m\u001b[0mroot\u001b[0m\u001b[0;34m]\u001b[0m\u001b[0;34m\u001b[0m\u001b[0;34m\u001b[0m\u001b[0m\n\u001b[0;32m----> 2\u001b[0;31m \u001b[0mroot\u001b[0m \u001b[0;34m=\u001b[0m \u001b[0mNode\u001b[0m\u001b[0;34m.\u001b[0m\u001b[0mbfs\u001b[0m\u001b[0;34m(\u001b[0m\u001b[0mrl\u001b[0m\u001b[0;34m)\u001b[0m\u001b[0;34m\u001b[0m\u001b[0;34m\u001b[0m\u001b[0m\n\u001b[0m",
      "\u001b[0;32m<ipython-input-52-23b12f633693>\u001b[0m in \u001b[0;36mbfs\u001b[0;34m(rl)\u001b[0m\n\u001b[1;32m    123\u001b[0m             \u001b[0mnl\u001b[0m\u001b[0;34m.\u001b[0m\u001b[0mappend\u001b[0m\u001b[0;34m(\u001b[0m\u001b[0mrut\u001b[0m\u001b[0;34m.\u001b[0m\u001b[0mr\u001b[0m\u001b[0;34m)\u001b[0m\u001b[0;34m\u001b[0m\u001b[0;34m\u001b[0m\u001b[0m\n\u001b[1;32m    124\u001b[0m \u001b[0;34m\u001b[0m\u001b[0m\n\u001b[0;32m--> 125\u001b[0;31m         \u001b[0mNode\u001b[0m\u001b[0;34m.\u001b[0m\u001b[0mbfs\u001b[0m\u001b[0;34m(\u001b[0m\u001b[0mnl\u001b[0m\u001b[0;34m)\u001b[0m\u001b[0;34m\u001b[0m\u001b[0;34m\u001b[0m\u001b[0m\n\u001b[0m\u001b[1;32m    126\u001b[0m \u001b[0;34m\u001b[0m\u001b[0m\n\u001b[1;32m    127\u001b[0m \u001b[0;34m\u001b[0m\u001b[0m\n",
      "\u001b[0;32m<ipython-input-52-23b12f633693>\u001b[0m in \u001b[0;36mbfs\u001b[0;34m(rl)\u001b[0m\n\u001b[1;32m    123\u001b[0m             \u001b[0mnl\u001b[0m\u001b[0;34m.\u001b[0m\u001b[0mappend\u001b[0m\u001b[0;34m(\u001b[0m\u001b[0mrut\u001b[0m\u001b[0;34m.\u001b[0m\u001b[0mr\u001b[0m\u001b[0;34m)\u001b[0m\u001b[0;34m\u001b[0m\u001b[0;34m\u001b[0m\u001b[0m\n\u001b[1;32m    124\u001b[0m \u001b[0;34m\u001b[0m\u001b[0m\n\u001b[0;32m--> 125\u001b[0;31m         \u001b[0mNode\u001b[0m\u001b[0;34m.\u001b[0m\u001b[0mbfs\u001b[0m\u001b[0;34m(\u001b[0m\u001b[0mnl\u001b[0m\u001b[0;34m)\u001b[0m\u001b[0;34m\u001b[0m\u001b[0;34m\u001b[0m\u001b[0m\n\u001b[0m\u001b[1;32m    126\u001b[0m \u001b[0;34m\u001b[0m\u001b[0m\n\u001b[1;32m    127\u001b[0m \u001b[0;34m\u001b[0m\u001b[0m\n",
      "\u001b[0;32m<ipython-input-52-23b12f633693>\u001b[0m in \u001b[0;36mbfs\u001b[0;34m(rl)\u001b[0m\n\u001b[1;32m    123\u001b[0m             \u001b[0mnl\u001b[0m\u001b[0;34m.\u001b[0m\u001b[0mappend\u001b[0m\u001b[0;34m(\u001b[0m\u001b[0mrut\u001b[0m\u001b[0;34m.\u001b[0m\u001b[0mr\u001b[0m\u001b[0;34m)\u001b[0m\u001b[0;34m\u001b[0m\u001b[0;34m\u001b[0m\u001b[0m\n\u001b[1;32m    124\u001b[0m \u001b[0;34m\u001b[0m\u001b[0m\n\u001b[0;32m--> 125\u001b[0;31m         \u001b[0mNode\u001b[0m\u001b[0;34m.\u001b[0m\u001b[0mbfs\u001b[0m\u001b[0;34m(\u001b[0m\u001b[0mnl\u001b[0m\u001b[0;34m)\u001b[0m\u001b[0;34m\u001b[0m\u001b[0;34m\u001b[0m\u001b[0m\n\u001b[0m\u001b[1;32m    126\u001b[0m \u001b[0;34m\u001b[0m\u001b[0m\n\u001b[1;32m    127\u001b[0m \u001b[0;34m\u001b[0m\u001b[0m\n",
      "\u001b[0;32m<ipython-input-52-23b12f633693>\u001b[0m in \u001b[0;36mbfs\u001b[0;34m(rl)\u001b[0m\n\u001b[1;32m    118\u001b[0m         \u001b[0;32mfor\u001b[0m \u001b[0mrut\u001b[0m \u001b[0;32min\u001b[0m  \u001b[0mrl\u001b[0m\u001b[0;34m:\u001b[0m\u001b[0;34m\u001b[0m\u001b[0;34m\u001b[0m\u001b[0m\n\u001b[1;32m    119\u001b[0m             \u001b[0;31m#print(rut.d)\u001b[0m\u001b[0;34m\u001b[0m\u001b[0;34m\u001b[0m\u001b[0;34m\u001b[0m\u001b[0m\n\u001b[0;32m--> 120\u001b[0;31m             \u001b[0;32mif\u001b[0m\u001b[0;34m(\u001b[0m\u001b[0mrut\u001b[0m\u001b[0;34m.\u001b[0m\u001b[0mr\u001b[0m\u001b[0;34m!=\u001b[0m \u001b[0;32mNone\u001b[0m \u001b[0;32mand\u001b[0m \u001b[0mrut\u001b[0m\u001b[0;34m.\u001b[0m\u001b[0ml\u001b[0m\u001b[0;34m!=\u001b[0m \u001b[0;32mNone\u001b[0m\u001b[0;34m)\u001b[0m\u001b[0;34m:\u001b[0m\u001b[0;34m\u001b[0m\u001b[0;34m\u001b[0m\u001b[0m\n\u001b[0m\u001b[1;32m    121\u001b[0m                 \u001b[0mprint\u001b[0m\u001b[0;34m(\u001b[0m\u001b[0mrut\u001b[0m\u001b[0;34m.\u001b[0m\u001b[0md\u001b[0m\u001b[0;34m)\u001b[0m\u001b[0;34m\u001b[0m\u001b[0;34m\u001b[0m\u001b[0m\n\u001b[1;32m    122\u001b[0m             \u001b[0mnl\u001b[0m\u001b[0;34m.\u001b[0m\u001b[0mappend\u001b[0m\u001b[0;34m(\u001b[0m\u001b[0mrut\u001b[0m\u001b[0;34m.\u001b[0m\u001b[0ml\u001b[0m\u001b[0;34m)\u001b[0m\u001b[0;34m\u001b[0m\u001b[0;34m\u001b[0m\u001b[0m\n",
      "\u001b[0;31mAttributeError\u001b[0m: 'NoneType' object has no attribute 'r'"
     ]
    }
   ],
   "source": [
    "rl =[root]\n",
    "root = Node.bfs(rl)\n"
   ]
  },
  {
   "cell_type": "code",
   "execution_count": 138,
   "metadata": {},
   "outputs": [
    {
     "ename": "NameError",
     "evalue": "name 'h' is not defined",
     "output_type": "error",
     "traceback": [
      "\u001b[0;31m---------------------------------------------------------------------------\u001b[0m",
      "\u001b[0;31mNameError\u001b[0m                                 Traceback (most recent call last)",
      "\u001b[0;32m<ipython-input-138-244aa7266b3f>\u001b[0m in \u001b[0;36m<module>\u001b[0;34m\u001b[0m\n\u001b[0;32m----> 1\u001b[0;31m \u001b[0mh\u001b[0m\u001b[0;34m\u001b[0m\u001b[0;34m\u001b[0m\u001b[0m\n\u001b[0m",
      "\u001b[0;31mNameError\u001b[0m: name 'h' is not defined"
     ]
    }
   ],
   "source": []
  },
  {
   "cell_type": "code",
   "execution_count": 123,
   "metadata": {},
   "outputs": [
    {
     "ename": "AttributeError",
     "evalue": "'int' object has no attribute 'd'",
     "output_type": "error",
     "traceback": [
      "\u001b[0;31m---------------------------------------------------------------------------\u001b[0m",
      "\u001b[0;31mAttributeError\u001b[0m                            Traceback (most recent call last)",
      "\u001b[0;32m<ipython-input-123-608e7b4998ce>\u001b[0m in \u001b[0;36m<module>\u001b[0;34m\u001b[0m\n\u001b[0;32m----> 1\u001b[0;31m \u001b[0mroot\u001b[0m\u001b[0;34m.\u001b[0m\u001b[0md\u001b[0m\u001b[0;34m\u001b[0m\u001b[0;34m\u001b[0m\u001b[0m\n\u001b[0m",
      "\u001b[0;31mAttributeError\u001b[0m: 'int' object has no attribute 'd'"
     ]
    }
   ],
   "source": [
    "root.d"
   ]
  },
  {
   "cell_type": "code",
   "execution_count": null,
   "metadata": {},
   "outputs": [],
   "source": []
  }
 ],
 "metadata": {
  "kernelspec": {
   "display_name": "Python 3",
   "language": "python",
   "name": "python3"
  },
  "language_info": {
   "codemirror_mode": {
    "name": "ipython",
    "version": 3
   },
   "file_extension": ".py",
   "mimetype": "text/x-python",
   "name": "python",
   "nbconvert_exporter": "python",
   "pygments_lexer": "ipython3",
   "version": "3.8.1"
  }
 },
 "nbformat": 4,
 "nbformat_minor": 4
}
