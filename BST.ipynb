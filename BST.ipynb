{
 "cells": [
  {
   "cell_type": "code",
   "execution_count": 49,
   "metadata": {},
   "outputs": [],
   "source": [
    "class Node:\n",
    "    def __init__(self,d,l=None,r=None):\n",
    "        self.d = d\n",
    "        self.l = l\n",
    "        self.r = r\n",
    "        \n",
    "    @staticmethod    \n",
    "    def _display_aux(root):\n",
    "        \"\"\"Returns list of strings, width, height, and horizontal coordinate of the root.\"\"\"\n",
    "        # No child.\n",
    "        if root.r is None and root.l is None:\n",
    "            line = '%s' % root.d\n",
    "            width = len(line)\n",
    "            height = 1\n",
    "            middle = width // 2\n",
    "            return [line], width, height, middle\n",
    "\n",
    "        # Only l child.\n",
    "        if root.r is None:\n",
    "            lines, n, p, x = Node._display_aux(root.l)\n",
    "            s = '%s' % root.d\n",
    "            u = len(s)\n",
    "            first_line = (x + 1) * ' ' + (n - x - 1) * '_' + s\n",
    "            second_line = x * ' ' + '/' + (n - x - 1 + u) * ' '\n",
    "            shifted_lines = [line + u * ' ' for line in lines]\n",
    "            return [first_line, second_line] + shifted_lines, n + u, p + 2, n + u // 2\n",
    "\n",
    "        # Only r child.\n",
    "        if root.l is None:\n",
    "            lines, n, p, x = Node._display_aux(root.r)\n",
    "            s = '%s' % root.d\n",
    "            u = len(s)\n",
    "            first_line = s + x * '_' + (n - x) * ' '\n",
    "            second_line = (u + x) * ' ' + '\\\\' + (n - x - 1) * ' '\n",
    "            shifted_lines = [u * ' ' + line for line in lines]\n",
    "            return [first_line, second_line] + shifted_lines, n + u, p + 2, u // 2\n",
    "\n",
    "        # Two children.\n",
    "        l, n, p, x = Node._display_aux(root.l)\n",
    "        r, m, q, y = Node._display_aux(root.r)\n",
    "        s = '%s' % root.d\n",
    "        u = len(s)\n",
    "        first_line = (x + 1) * ' ' + (n - x - 1) * '_' + s + y * '_' + (m - y) * ' '\n",
    "        second_line = x * ' ' + '/' + (n - x - 1 + u + y) * ' ' + '\\\\' + (m - y - 1) * ' '\n",
    "        if p < q:\n",
    "            l += [n * ' '] * (q - p)\n",
    "        elif q < p:\n",
    "            r += [m * ' '] * (p - q)\n",
    "        zipped_lines = zip(l, r)\n",
    "        lines = [first_line, second_line] + [a + u * ' ' + b for a, b in zipped_lines]\n",
    "        return lines, n + m + u, max(p, q) + 2, n + u // 2\n",
    "\n",
    "    @staticmethod\n",
    "    def display(root):\n",
    "        lines, *_ = Node._display_aux(root)\n",
    "        for line in lines:\n",
    "            print(line)\n",
    "        print(\"--------------------\")\n",
    "   \n",
    "    @staticmethod\n",
    "    def insert(d,root):\n",
    "        node = Node(d)\n",
    "        if(root.d>node.d):\n",
    "            if(root.l==None):\n",
    "                root.l = node\n",
    "            else:\n",
    "                Node.insert(node.d,root.l)\n",
    "            return root\n",
    "        else:\n",
    "            if(root.r == None):\n",
    "                root.r = node\n",
    "            else:\n",
    "                Node.insert(node.d,root.r)\n",
    "            return root\n",
    "        \n",
    "    @staticmethod\n",
    "    def findmin(node):\n",
    "        if(node.l != None):\n",
    "            return Node.findmin(node.l)\n",
    "        return node\n",
    "    \n",
    "    @staticmethod\n",
    "    def delete(node,d):\n",
    "        if(node == None):\n",
    "            return node\n",
    "        elif(node.d>d):\n",
    "            node.l = Node.delete(node.l,d)\n",
    "        elif(node.d<d):\n",
    "            node.r = Node.delete(node.r,d)\n",
    "        else:\n",
    "            if(node.l==None and node.r==None):\n",
    "                node = None\n",
    "            elif(node.l == None):\n",
    "                node = node.r\n",
    "            elif(node.r == None):\n",
    "                node = node.l\n",
    "            else:\n",
    "                minnode = Node.findmin(node.r)\n",
    "                node.d = minnode.d\n",
    "                node.r = Node.delete(node.r,minnode.d)\n",
    "        return node\n",
    "    \n",
    "    @staticmethod\n",
    "    def print_eachdata(root,data=[]):\n",
    "        if root!=None:\n",
    "            data.append(root)\n",
    "            \n",
    "            Node.print_eachdata(root.l)\n",
    "            \n",
    "            Node.print_eachdata(root.r)\n",
    "            print (root.d)\n",
    "        return data"
   ]
  },
  {
   "cell_type": "code",
   "execution_count": 50,
   "metadata": {
    "scrolled": true
   },
   "outputs": [
    {
     "name": "stdout",
     "output_type": "stream",
     "text": [
      "        ______50_______         \n",
      "       /               \\        \n",
      "    __40___         __60___     \n",
      "   /       \\       /       \\    \n",
      "  25_     45_     55_     100_  \n",
      " /   \\   /   \\   /   \\   /    \\ \n",
      "10  35  43  47  53  57  95   105\n",
      "--------------------\n",
      "10\n",
      "35\n",
      "25\n",
      "43\n",
      "47\n",
      "45\n",
      "40\n",
      "53\n",
      "57\n",
      "55\n",
      "95\n",
      "105\n",
      "100\n",
      "60\n",
      "50\n"
     ]
    },
    {
     "data": {
      "text/plain": [
       "[50, 40, 25, 10, 35, 45, 43, 47, 60, 55, 53, 57, 100, 95, 105]"
      ]
     },
     "execution_count": 50,
     "metadata": {},
     "output_type": "execute_result"
    }
   ],
   "source": [
    "root = Node(50)\n",
    "root = Node.insert(60,root)\n",
    "root = Node.insert(40,root)\n",
    "root = Node.insert(100,root)\n",
    "root = Node.insert(25,root)\n",
    "root = Node.insert(10,root)\n",
    "root = Node.insert(35,root)\n",
    "root = Node.insert(55,root)\n",
    "root = Node.insert(45,root)\n",
    "root = Node.insert(53,root)\n",
    "root = Node.insert(57,root)\n",
    "root = Node.insert(43,root)\n",
    "root = Node.insert(47,root)\n",
    "root = Node.insert(105,root)\n",
    "root = Node.insert(95,root)\n",
    "Node.display(root)\n",
    "#root = Node.delete(root,40)\n",
    "#Node.display(root)\n",
    "v = Node.print_eachdata(root)\n",
    "l = [n.d for n in v]\n",
    "l"
   ]
  },
  {
   "cell_type": "code",
   "execution_count": 9,
   "metadata": {},
   "outputs": [],
   "source": [
    "import random\n",
    "l = [ random.randrange(-100,100) for _ in range(1,40)]\n",
    "root = Node(l[0])\n",
    "for n in l[1:]:\n",
    "    root = Node.insert(n,root)\n",
    "    "
   ]
  },
  {
   "cell_type": "code",
   "execution_count": 11,
   "metadata": {},
   "outputs": [
    {
     "name": "stdout",
     "output_type": "stream",
     "text": [
      "                                                           ______45_______             \n",
      "                                                          /               \\            \n",
      "                                                   ______36___         __69_____       \n",
      "                                                  /           \\       /         \\      \n",
      "                       __________________________30___       37_     53_     __94___   \n",
      "                      /                               \\     /   \\   /   \\   /       \\  \n",
      "              _______-46_                            33_   36  39  49  67  72_     95_ \n",
      "             /           \\                          /   \\                     \\   /   \\\n",
      "           _-83_        -41___________________     30  35                    73  94  97\n",
      "          /     \\                             \\                                        \n",
      "  _______-87   -70_                  ________25_                                       \n",
      " /                 \\                /           \\                                      \n",
      "-99____           -53        _______9_____     28                                      \n",
      "       \\                    /             \\                                            \n",
      "     _-90                  -22_____      17_                                           \n",
      "    /                              \\    /   \\                                          \n",
      "   -96                             7   16  17                                          \n",
      "                                  /   /                                                \n",
      "                                _-3  14                                                \n",
      "                               /                                                       \n",
      "                              -12                                                      \n",
      "--------------------\n"
     ]
    }
   ],
   "source": [
    "Node.display(root)"
   ]
  },
  {
   "cell_type": "code",
   "execution_count": 45,
   "metadata": {},
   "outputs": [
    {
     "name": "stdout",
     "output_type": "stream",
     "text": [
      "                    ___________________-7_________________________                 \n",
      "                   /                                              \\                \n",
      "           _______-57________________      ______________________58_____________   \n",
      "          /                          \\    /                                     \\  \n",
      "        _-83____       _____________-11  -5__                          ________94_ \n",
      "       /        \\     /                      \\                        /           \\\n",
      "  ____-84     _-78   -57_______              5__________________     62_____     98\n",
      " /           /                 \\            /                   \\   /       \\      \n",
      "-97_        -81              _-18_         -4                __50  60    __77_     \n",
      "    \\                       /     \\                         /           /     \\    \n",
      "   -95                    _-44   -12                 ______48_         64_   85    \n",
      "                         /                          /         \\           \\        \n",
      "                        -47                      __28_       49          65        \n",
      "                                                /     \\                            \n",
      "                                               21_   32_                           \n",
      "                                              /   \\     \\                          \n",
      "                                              5  21    43_                         \n",
      "                                                          \\                        \n",
      "                                                         46                        \n",
      "--------------------\n"
     ]
    }
   ],
   "source": [
    "root = Node.delete(root,-22)\n",
    "Node.display(root)"
   ]
  },
  {
   "cell_type": "code",
   "execution_count": 46,
   "metadata": {},
   "outputs": [
    {
     "name": "stdout",
     "output_type": "stream",
     "text": [
      "                          ___________________-7_________________________                 \n",
      "                         /                                              \\                \n",
      "                 _______-57________________      ______________________58_____________   \n",
      "                /                          \\    /                                     \\  \n",
      "              _-83____       _____________-11  -5__                          ________94_ \n",
      "             /        \\     /                      \\                        /           \\\n",
      "  __________-84     _-78   -57_______              5__________________     62_____     98\n",
      " /                 /                 \\            /                   \\   /       \\      \n",
      "-97____           -81              _-18_         -4                __50  60    __77_     \n",
      "       \\                          /     \\                         /           /     \\    \n",
      "     _-95_                      _-44   -12                 ______48_         64_   85    \n",
      "    /     \\                    /                          /         \\           \\        \n",
      "   -96   -94                  -47                      __28_       49          65        \n",
      "                                                      /     \\                            \n",
      "                                                     21_   32_                           \n",
      "                                                    /   \\     \\                          \n",
      "                                                    5  21    43_                         \n",
      "                                                                \\                        \n",
      "                                                               46                        \n",
      "--------------------\n"
     ]
    }
   ],
   "source": [
    "root = Node.insert(-96,root)\n",
    "root = Node.insert(-94,root)\n",
    "Node.display(root)"
   ]
  },
  {
   "cell_type": "code",
   "execution_count": 47,
   "metadata": {},
   "outputs": [
    {
     "name": "stdout",
     "output_type": "stream",
     "text": [
      "                             ___________________-7_________________________                 \n",
      "                            /                                              \\                \n",
      "                    _______-57________________      ______________________58_____________   \n",
      "                   /                          \\    /                                     \\  \n",
      "                 _-83____       _____________-11  -5__                          ________94_ \n",
      "                /        \\     /                      \\                        /           \\\n",
      "     __________-84     _-78   -57_______              5__________________     62_____     98\n",
      "    /                 /                 \\            /                   \\   /       \\      \n",
      "  _-97____           -81              _-18_         -4                __50  60    __77_     \n",
      " /        \\                          /     \\                         /           /     \\    \n",
      "-98     _-95_                      _-44   -12                 ______48_         64_   85    \n",
      "       /     \\                    /                          /         \\           \\        \n",
      "      -96   -94                  -47                      __28_       49          65        \n",
      "                                                         /     \\                            \n",
      "                                                        21_   32_                           \n",
      "                                                       /   \\     \\                          \n",
      "                                                       5  21    43_                         \n",
      "                                                                   \\                        \n",
      "                                                                  46                        \n",
      "--------------------\n"
     ]
    }
   ],
   "source": [
    "root = Node.insert(-98,root)\n",
    "Node.display(root)"
   ]
  },
  {
   "cell_type": "code",
   "execution_count": 50,
   "metadata": {},
   "outputs": [
    {
     "name": "stdout",
     "output_type": "stream",
     "text": [
      "                                                     ___________________-7_________________________                 \n",
      "                                                    /                                              \\                \n",
      "                                            _______-57________________      ______________________58_____________   \n",
      "                                           /                          \\    /                                     \\  \n",
      "                                         _-83____       _____________-11  -5__                          ________94_ \n",
      "                                        /        \\     /                      \\                        /           \\\n",
      "                             __________-84     _-78   -57_______              5__________________     62_____     98\n",
      "                            /                 /                 \\            /                   \\   /       \\      \n",
      "                          _-97____           -81              _-18_         -4                __50  60    __77_     \n",
      "                         /        \\                          /     \\                         /           /     \\    \n",
      "                   _____-98     _-95_                      _-44   -12                 ______48_         64_   85    \n",
      "                  /            /     \\                    /                          /         \\           \\        \n",
      "               _-300__        -96   -94                  -47                      __28_       49          65        \n",
      "              /       \\                                                          /     \\                            \n",
      "           _-400    -200                                                        21_   32_                           \n",
      "          /                                                                    /   \\     \\                          \n",
      "   _____-500                                                                   5  21    43_                         \n",
      "  /                                                                                        \\                        \n",
      "-600__                                                                                    46                        \n",
      "      \\                                                                                                             \n",
      "    -550                                                                                                            \n",
      "--------------------\n"
     ]
    }
   ],
   "source": [
    "root = Node.insert(-550,root)\n",
    "Node.display(root)"
   ]
  },
  {
   "cell_type": "code",
   "execution_count": 53,
   "metadata": {},
   "outputs": [
    {
     "name": "stdout",
     "output_type": "stream",
     "text": [
      "                                                  ___________________-7_________________________                 \n",
      "                                                 /                                              \\                \n",
      "                                         _______-57________________      ______________________58_____________   \n",
      "                                        /                          \\    /                                     \\  \n",
      "                                      _-83____       _____________-11  -5__                          ________94_ \n",
      "                                     /        \\     /                      \\                        /           \\\n",
      "                          __________-84     _-78   -57_______              5__________________     62_____     98\n",
      "                         /                 /                 \\            /                   \\   /       \\      \n",
      "                   _____-97____           -81              _-18_         -4                __50  60    __77_     \n",
      "                  /            \\                          /     \\                         /           /     \\    \n",
      "               _-300__       _-95_                      _-44   -12                 ______48_         64_   85    \n",
      "              /       \\     /     \\                    /                          /         \\           \\        \n",
      "           _-400    -200   -96   -94                  -47                      __28_       49          65        \n",
      "          /                                                                   /     \\                            \n",
      "   _____-500                                                                 21_   32_                           \n",
      "  /                                                                         /   \\     \\                          \n",
      "-600__                                                                      5  21    43_                         \n",
      "      \\                                                                                 \\                        \n",
      "    -550                                                                               46                        \n",
      "--------------------\n"
     ]
    }
   ],
   "source": [
    "root = Node.delete(root,-98)\n",
    "Node.display(root)"
   ]
  },
  {
   "cell_type": "code",
   "execution_count": null,
   "metadata": {},
   "outputs": [],
   "source": []
  }
 ],
 "metadata": {
  "kernelspec": {
   "display_name": "Python 3",
   "language": "python",
   "name": "python3"
  },
  "language_info": {
   "codemirror_mode": {
    "name": "ipython",
    "version": 3
   },
   "file_extension": ".py",
   "mimetype": "text/x-python",
   "name": "python",
   "nbconvert_exporter": "python",
   "pygments_lexer": "ipython3",
   "version": "3.8.1"
  }
 },
 "nbformat": 4,
 "nbformat_minor": 4
}
