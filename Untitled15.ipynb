{
 "cells": [
  {
   "cell_type": "code",
   "execution_count": 7,
   "metadata": {},
   "outputs": [],
   "source": [
    "# find digital root\n",
    "def digitalroot(n):\n",
    "    while(n>9):\n",
    "        sum1 =0\n",
    "        while(n>0):\n",
    "            sum1 = sum1+(n%10)\n",
    "            n = n//10\n",
    "        n = sum1\n",
    "    print(n)\n",
    "\n",
    "    \n",
    "    \n",
    "    \n",
    "# find is the number prime\n",
    "def isprime(n):\n",
    "    if (n>1):\n",
    "\n",
    "        for i in range(2,n):\n",
    "            #print (i)\n",
    "            if(n%i == 0):\n",
    "                return False\n",
    "                break\n",
    "\n",
    "        #else:\n",
    "        print(n)\n",
    "        return True\n",
    "        \n",
    "        \n",
    "            \n",
    "# find no.of primes\n",
    "def no_ofprime(num):\n",
    "    prime_count = 0\n",
    "    for i in range(2,num):\n",
    "        res = isprime(i)\n",
    "        #print(\"res\",res)\n",
    "        if(res == True):\n",
    "            prime_count = prime_count+1\n",
    "    print(\"no.of primes : \",prime_count)\n",
    "    \n",
    "\n",
    "    \n",
    "    \n",
    "def ratings_count(n):\n",
    "    rating_count = [0,0,0,0,0,0]\n",
    "    for i in range(n):\n",
    "        userrating = int(input(\"give ur rating : \"))\n",
    "        if((userrating <1) or (userrating>5)):\n",
    "            print(\" invalid rating\")\n",
    "        else:\n",
    "            rating_count[userrating] = rating_count[userrating]+1\n",
    "            \n",
    "    for i in range(1,6):\n",
    "        print(i,\" \",rating_count[i])   \n"
   ]
  },
  {
   "cell_type": "code",
   "execution_count": 8,
   "metadata": {},
   "outputs": [
    {
     "name": "stdout",
     "output_type": "stream",
     "text": [
      "3\n"
     ]
    }
   ],
   "source": [
    "n=12234\n",
    "digitalroot(n)"
   ]
  },
  {
   "cell_type": "code",
   "execution_count": null,
   "metadata": {},
   "outputs": [],
   "source": [
    "isprime()"
   ]
  },
  {
   "cell_type": "code",
   "execution_count": null,
   "metadata": {},
   "outputs": [],
   "source": [
    "no_ofprime(40)"
   ]
  },
  {
   "cell_type": "code",
   "execution_count": null,
   "metadata": {},
   "outputs": [],
   "source": [
    "n=8\n",
    "ratings_count(n)"
   ]
  },
  {
   "cell_type": "markdown",
   "metadata": {},
   "source": []
  },
  {
   "cell_type": "code",
   "execution_count": null,
   "metadata": {},
   "outputs": [],
   "source": []
  }
 ],
 "metadata": {
  "kernelspec": {
   "display_name": "Python 3",
   "language": "python",
   "name": "python3"
  },
  "language_info": {
   "codemirror_mode": {
    "name": "ipython",
    "version": 3
   },
   "file_extension": ".py",
   "mimetype": "text/x-python",
   "name": "python",
   "nbconvert_exporter": "python",
   "pygments_lexer": "ipython3",
   "version": "3.8.1"
  }
 },
 "nbformat": 4,
 "nbformat_minor": 4
}
