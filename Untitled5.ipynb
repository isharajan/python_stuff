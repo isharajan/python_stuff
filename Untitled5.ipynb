{
 "cells": [
  {
   "cell_type": "code",
   "execution_count": 100,
   "metadata": {},
   "outputs": [],
   "source": [
    "\n",
    "class heaparr():\n",
    "    \n",
    "    @staticmethod\n",
    "    def adjust(arr,dindex):\n",
    "        if(dindex!=1):\n",
    "            \n",
    "            pindex = dindex//2\n",
    "            if(arr[pindex-1] < arr[dindex-1]):\n",
    "                temp = arr[pindex-1]\n",
    "                arr[pindex-1] = arr[dindex-1]\n",
    "                arr[dindex-1] = temp\n",
    "                heaparr.adjust(arr,pindex)\n",
    "            \n",
    "        \n",
    "    @staticmethod\n",
    "    def insert(arr,data):\n",
    "        arr.append(data)\n",
    "        dindex = len(arr)\n",
    "        heaparr.adjust(arr,dindex)\n",
    "        print (arr)\n",
    "\n",
    "            \n",
    "    "
   ]
  },
  {
   "cell_type": "code",
   "execution_count": 102,
   "metadata": {},
   "outputs": [
    {
     "name": "stdout",
     "output_type": "stream",
     "text": [
      "[20]\n",
      "[100, 20]\n",
      "[100, 20, 30]\n",
      "[100, 50, 30, 20]\n",
      "[100, 50, 30, 20, 5]\n",
      "[200, 50, 100, 20, 5, 30]\n",
      "[200, 50, 105, 20, 5, 30, 100]\n"
     ]
    }
   ],
   "source": [
    "arr = []\n",
    "heaparr.insert(arr,20)\n",
    "heaparr.insert(arr,100)\n",
    "heaparr.insert(arr,30)\n",
    "heaparr.insert(arr,50)\n",
    "heaparr.insert(arr,5)\n",
    "heaparr.insert(arr,200)\n",
    "heaparr.insert(arr,105)\n",
    "\n",
    "\n"
   ]
  },
  {
   "cell_type": "code",
   "execution_count": null,
   "metadata": {},
   "outputs": [],
   "source": []
  },
  {
   "cell_type": "code",
   "execution_count": null,
   "metadata": {},
   "outputs": [],
   "source": []
  }
 ],
 "metadata": {
  "kernelspec": {
   "display_name": "Python 3",
   "language": "python",
   "name": "python3"
  },
  "language_info": {
   "codemirror_mode": {
    "name": "ipython",
    "version": 3
   },
   "file_extension": ".py",
   "mimetype": "text/x-python",
   "name": "python",
   "nbconvert_exporter": "python",
   "pygments_lexer": "ipython3",
   "version": "3.8.1"
  }
 },
 "nbformat": 4,
 "nbformat_minor": 4
}
