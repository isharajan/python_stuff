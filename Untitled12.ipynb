{
 "cells": [
  {
   "cell_type": "code",
   "execution_count": null,
   "metadata": {},
   "outputs": [],
   "source": [
    "\n",
    "def oddeven(s):\n",
    "    even =0\n",
    "    odd =0\n",
    "    for e in range(len(s)):\n",
    "        print\n",
    "        q = int(s[e])\n",
    "        if(e%2==0):\n",
    "            even = even+q\n",
    "        else:\n",
    "            odd = odd+q\n",
    "    print(\"even\",even)\n",
    "    print(\"odd\",odd)\n",
    "    \n",
    "    \n",
    "        \n",
    "    \n",
    "def freqchar(st,k):\n",
    "    ch ={}\n",
    "    for c in st:\n",
    "        if(c in ch):\n",
    "            ch[c]= ch[c]+1\n",
    "        else:\n",
    "            ch[c] = 1\n",
    "    return (ch[k])\n",
    "    \n",
    "            \n",
    "    \n",
    "\n",
    "    \n",
    "def swap(a,b):\n",
    "    temp = a \n",
    "    a = b\n",
    "    b = temp\n",
    "    \n",
    "def revstr(s):\n",
    "    print(s)\n",
    "    l = len(s)\n",
    "    for i in range(l):\n",
    "        d = l-i-1\n",
    "        print(s[d],end = \"\")\n",
    "        swap(s[i],s[d])\n",
    "       \n",
    "    \n",
    "    \n",
    "    \n",
    "def ispalindrome(st):\n",
    "    flag =0\n",
    "    l = len(st)\n",
    "    for i in range(l):\n",
    "        if(st[i] != st[l-i-1]):\n",
    "            flag =1\n",
    "            break\n",
    "    if(flag):\n",
    "        print(\"not palindrom\")\n",
    "    else:\n",
    "        print(\"palindrome\")\n",
    "        \n",
    "        \n",
    "        \n",
    "        \n",
    "        \n",
    "def palin1(st):\n",
    "    i=0\n",
    "    flag = 0\n",
    "    l = len(st)\n",
    "    \n",
    "    while(i<l):\n",
    "        if(st[i] != st[l-i-1]):\n",
    "            flag = 1\n",
    "            break\n",
    "        else:\n",
    "            i = i+1\n",
    "        \n",
    "    if(flag):\n",
    "        print(\"not palindrom\")\n",
    "    else:\n",
    "        print(\"palindrome\")\n",
    "        \n",
    "        \n",
    "        \n",
    "        \n",
    "        \n",
    "def remvchar(string,key):\n",
    "    l = len(string)\n",
    "    newstr =\"\"\n",
    "    for i in range (l):\n",
    "        if(s[i] == key):\n",
    "            newstr = newstr + s.replace(s[i],\"\")\n",
    "        else:\n",
    "            remvchar(newstr,key)\n",
    "    return newstr\n",
    "\n",
    "\n",
    "\n",
    "\n",
    "\n",
    "\n",
    "\n",
    "    \n",
    "        \n",
    "        "
   ]
  },
  {
   "cell_type": "code",
   "execution_count": null,
   "metadata": {},
   "outputs": [],
   "source": [
    "s=\"23451100\"\n",
    "oddeven(s)\n"
   ]
  },
  {
   "cell_type": "code",
   "execution_count": null,
   "metadata": {},
   "outputs": [],
   "source": [
    "st = \"apppllllllkle\"\n",
    "k = \"l\"\n",
    "e=freqchar(st,k)\n",
    "print(e)"
   ]
  },
  {
   "cell_type": "code",
   "execution_count": null,
   "metadata": {},
   "outputs": [],
   "source": [
    "\n",
    "s=\"apple\"\n",
    "revstr(s)\n"
   ]
  },
  {
   "cell_type": "raw",
   "metadata": {},
   "source": []
  },
  {
   "cell_type": "code",
   "execution_count": null,
   "metadata": {},
   "outputs": [],
   "source": [
    "st = \"banana\"\n",
    "ispalindrome(st)\n"
   ]
  },
  {
   "cell_type": "code",
   "execution_count": null,
   "metadata": {},
   "outputs": [],
   "source": [
    "st =\"isha\"\n",
    "palin1(st)\n",
    "\n",
    "\n"
   ]
  },
  {
   "cell_type": "code",
   "execution_count": null,
   "metadata": {},
   "outputs": [],
   "source": [
    "n = 1234\n",
    "res=digitalroot(n)\n",
    "res"
   ]
  },
  {
   "cell_type": "code",
   "execution_count": null,
   "metadata": {},
   "outputs": [],
   "source": []
  },
  {
   "cell_type": "code",
   "execution_count": null,
   "metadata": {},
   "outputs": [],
   "source": []
  },
  {
   "cell_type": "code",
   "execution_count": null,
   "metadata": {},
   "outputs": [],
   "source": []
  }
 ],
 "metadata": {
  "kernelspec": {
   "display_name": "Python 3",
   "language": "python",
   "name": "python3"
  },
  "language_info": {
   "codemirror_mode": {
    "name": "ipython",
    "version": 3
   },
   "file_extension": ".py",
   "mimetype": "text/x-python",
   "name": "python",
   "nbconvert_exporter": "python",
   "pygments_lexer": "ipython3",
   "version": "3.8.1"
  }
 },
 "nbformat": 4,
 "nbformat_minor": 4
}
